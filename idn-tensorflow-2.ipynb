{
 "cells": [
  {
   "cell_type": "markdown",
   "metadata": {},
   "source": [
    "# Modified IDN\n",
    "\n",
    "Adapted with code from https://github.com/Zheng222/IDN-tensorflow and https://github.com/krasserm/super-resolution\n",
    "\n",
    "You don't need to download the DIV2K dataset as the required parts are automatically downloaded by the DIV2K class. By default, DIV2K images are stored in folder .div2k in the project's root directory."
   ]
  },
  {
   "cell_type": "code",
   "execution_count": null,
   "metadata": {},
   "outputs": [],
   "source": [
    "import os\n",
    "import matplotlib.pyplot as plt\n",
    "from tensorflow_addons.optimizers import CyclicalLearningRate\n",
    "from numba import cuda\n",
    "from data import DIV2K\n",
    "from model.idn import idn\n",
    "from train import IdnTrainer\n",
    "\n",
    "%matplotlib inline"
   ]
  },
  {
   "cell_type": "code",
   "execution_count": null,
   "metadata": {},
   "outputs": [],
   "source": [
    "# helps after out of memory errors\n",
    "device = cuda.get_current_device()\n",
    "device.reset()"
   ]
  },
  {
   "cell_type": "code",
   "execution_count": null,
   "metadata": {},
   "outputs": [],
   "source": [
    "# Location of model weights (needed for demo)\n",
    "weights_dir = f'weights/idn-x2'\n",
    "weights_file = os.path.join(weights_dir, 'weights.h5')\n",
    "os.makedirs(weights_dir, exist_ok=True)"
   ]
  },
  {
   "cell_type": "code",
   "execution_count": null,
   "metadata": {},
   "outputs": [],
   "source": [
    "scale=2\n",
    "train_data = DIV2K(scale=scale, subset='train', downgrade='bicubic')\n",
    "valid_data = DIV2K(scale=scale, subset='valid', downgrade='bicubic')\n",
    "items_in_trainingset = 800\n",
    "items_in_validationset = 100"
   ]
  },
  {
   "cell_type": "code",
   "execution_count": null,
   "metadata": {},
   "outputs": [],
   "source": [
    "batch_size = 16\n",
    "train_ds = train_data.dataset(batch_size=batch_size, random_transform=True)\n",
    "valid_ds = valid_data.dataset(batch_size=1, random_transform=False, repeat_count=1)"
   ]
  },
  {
   "cell_type": "markdown",
   "metadata": {},
   "source": [
    "## Training"
   ]
  },
  {
   "cell_type": "code",
   "execution_count": null,
   "metadata": {},
   "outputs": [],
   "source": [
    "maximal_learning_rate=7e-3\n",
    "initial_learning_rate=maximal_learning_rate/10\n",
    "\n",
    "epochs_within_each_step = 2\n",
    "iterations_in_epoch = items_in_trainingset//batch_size\n",
    "step_size = iterations_in_epoch * epochs_within_each_step\n",
    "cycles = step_size * 2\n",
    "training_steps= cycles * 3"
   ]
  },
  {
   "cell_type": "code",
   "execution_count": null,
   "metadata": {},
   "outputs": [],
   "source": [
    "cyclical_learning_rate_schedule = CyclicalLearningRate(\n",
    "    initial_learning_rate=initial_learning_rate, \n",
    "    maximal_learning_rate=maximal_learning_rate, \n",
    "    step_size=step_size, \n",
    "    scale_fn=lambda x: 1 / (2.0 ** (x - 1)))"
   ]
  },
  {
   "cell_type": "code",
   "execution_count": null,
   "metadata": {},
   "outputs": [],
   "source": [
    "trainer = IdnTrainer(model=idn(scale=scale), \n",
    "    checkpoint_dir=f'.ckpt/idn-x2',\n",
    "    learning_rate=cyclical_learning_rate_schedule)"
   ]
  },
  {
   "cell_type": "code",
   "execution_count": null,
   "metadata": {},
   "outputs": [],
   "source": [
    "trainer.train(train_ds,\n",
    "    valid_ds.take(items_in_validationset),\n",
    "    steps=training_steps, \n",
    "    evaluate_every=cycles,\n",
    "    save_best_only=True)"
   ]
  },
  {
   "cell_type": "code",
   "execution_count": null,
   "metadata": {},
   "outputs": [],
   "source": [
    "# Included for reference, although I don't believe a mean average of PSNR that is a log based metric is a valid comparison\n",
    "psnrv = trainer.evaluate(valid_ds.take(items_in_validationset))\n",
    "print(f'PSNR = {psnrv.numpy():3f}')"
   ]
  },
  {
   "cell_type": "code",
   "execution_count": null,
   "metadata": {},
   "outputs": [],
   "source": [
    "# reduce learning rate by several orders of magnitude for 1 cycle\n",
    "maximal_learning_rate=maximal_learning_rate/100\n",
    "initial_learning_rate=initial_learning_rate/100\n",
    "trainer = IdnTrainer(model=idn(scale=scale), \n",
    "    checkpoint_dir=f'.ckpt/idn-x2',\n",
    "    learning_rate=cyclical_learning_rate_schedule)"
   ]
  },
  {
   "cell_type": "code",
   "execution_count": null,
   "metadata": {},
   "outputs": [],
   "source": [
    "# train 1 extra cycle\n",
    "training_steps= training_steps + step_size * 2\n",
    "trainer.train(train_ds,\n",
    "    valid_ds.take(items_in_validationset),\n",
    "    steps=training_steps, \n",
    "    evaluate_every=cycles,\n",
    "    save_best_only=True)"
   ]
  },
  {
   "cell_type": "code",
   "execution_count": null,
   "metadata": {},
   "outputs": [],
   "source": [
    "# Included for reference, although I don't believe a mean average of PSNR that is a log based metric is a valid comparison\n",
    "psnrv = trainer.evaluate(valid_ds.take(items_in_validationset))\n",
    "print(f'PSNR = {psnrv.numpy():3f}')"
   ]
  },
  {
   "cell_type": "code",
   "execution_count": null,
   "metadata": {},
   "outputs": [],
   "source": [
    "trainer.model.save_weights(weights_file)"
   ]
  },
  {
   "cell_type": "markdown",
   "metadata": {},
   "source": [
    "## Demo"
   ]
  },
  {
   "cell_type": "code",
   "execution_count": null,
   "metadata": {},
   "outputs": [],
   "source": [
    "model = idn(scale=scale)\n",
    "model.load_weights(weights_file)"
   ]
  },
  {
   "cell_type": "code",
   "execution_count": null,
   "metadata": {},
   "outputs": [],
   "source": [
    "from model import resolve_single\n",
    "from utils import load_image, plot_sample\n",
    "\n",
    "def resolve_and_plot(lr_image_path):\n",
    "    lr = load_image(lr_image_path)\n",
    "    sr = resolve_single(model, lr)\n",
    "    plot_sample(lr, sr)"
   ]
  },
  {
   "cell_type": "code",
   "execution_count": null,
   "metadata": {},
   "outputs": [],
   "source": [
    "resolve_and_plot('demo/0869-crop.png')"
   ]
  },
  {
   "cell_type": "code",
   "execution_count": null,
   "metadata": {},
   "outputs": [],
   "source": [
    "resolve_and_plot('demo/0829-crop.png')"
   ]
  },
  {
   "cell_type": "code",
   "execution_count": null,
   "metadata": {},
   "outputs": [],
   "source": [
    "resolve_and_plot('demo/0851-crop.png')"
   ]
  },
  {
   "cell_type": "code",
   "execution_count": null,
   "metadata": {},
   "outputs": [],
   "source": [
    "resolve_and_plot('demo/0855-crop.png')"
   ]
  },
  {
   "cell_type": "code",
   "execution_count": null,
   "metadata": {},
   "outputs": [],
   "source": [
    "resolve_and_plot('demo/0855-crop2.png')"
   ]
  }
 ],
 "metadata": {
  "kernelspec": {
   "display_name": "Python 3",
   "language": "python",
   "name": "python3"
  },
  "language_info": {
   "codemirror_mode": {
    "name": "ipython",
    "version": 3
   },
   "file_extension": ".py",
   "mimetype": "text/x-python",
   "name": "python",
   "nbconvert_exporter": "python",
   "pygments_lexer": "ipython3",
   "version": "3.8.5"
  }
 },
 "nbformat": 4,
 "nbformat_minor": 2
}
